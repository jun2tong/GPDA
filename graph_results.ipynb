{
 "cells": [
  {
   "cell_type": "code",
   "execution_count": null,
   "metadata": {},
   "outputs": [],
   "source": [
    "import os\n",
    "import matplotlib.pyplot as plt\n",
    "from operator import itemgetter\n",
    "%matplotlib inline\n",
    "relevant_path = \"./record\"\n",
    "included_extensions = ['test.txt']\n",
    "file_names = [fn for fn in os.listdir(relevant_path)\n",
    "              if any(fn.endswith(ext) for ext in included_extensions)]\n",
    "pattern = 'commands'\n",
    "matching_files = [f for f in os.listdir(\".\") if pattern in f]\n",
    "param = []\n",
    "for f in matching_files:\n",
    "    for line in open(f).readlines():\n",
    "        param.append(line)"
   ]
  },
  {
   "cell_type": "code",
   "execution_count": null,
   "metadata": {},
   "outputs": [],
   "source": [
    "data = []\n",
    "save_results = []\n",
    "for line in param:\n",
    "    run = (str.split(line)[-1]).replace('\\\"', '')\n",
    "    for fp in file_names:\n",
    "        if run in fp:\n",
    "            data.append([line, fp])\n",
    "for datum in data:\n",
    "    title = datum[0]\n",
    "    seriesX = []\n",
    "    seriesY = []\n",
    "    seriesXLoss = []\n",
    "    seriesYLoss = []\n",
    "    for line in (open(\"./record/\"+ datum[1])).readlines():\n",
    "        seriesX.append(float(str.split(line)[1]))\n",
    "        seriesY.append(float(str.split(line)[-1].replace(\"%\",'')))\n",
    "        seriesXLoss.append(float(str.split(line)[1]))\n",
    "        seriesYLoss.append(float(str.split(line)[-7].replace(\",\",'')))\n",
    "    print(\"Max accuracy:\", max(seriesY))\n",
    "    fig, (ax1, ax2) = plt.subplots(2, 1)\n",
    "    fig.suptitle(datum[0])\n",
    "    ax1.plot(seriesX, seriesY)\n",
    "    ax2.plot(seriesXLoss, seriesYLoss)\n",
    "    plt.show()\n",
    "    save_results.append([str.split(datum[0])[11], str.split(datum[0])[3], str.split(datum[0])[5],seriesX, seriesY, seriesXLoss, seriesYLoss])\n",
    "\n",
    "save_results = sorted(save_results, key=itemgetter(1,2,0))\n",
    "grouped_results = []\n",
    "i = 0 \n",
    "while i < len(save_results):\n",
    "    j = i + 1\n",
    "    while j < len(save_results):\n",
    "        if save_results[i][1] == save_results[j][1] and save_results[i][2] == save_results[j][2]:\n",
    "            grouped_results.append([save_results[i][0:3], save_results[j][0:3]])\n"
   ]
  },
  {
   "cell_type": "code",
   "execution_count": null,
   "metadata": {},
   "outputs": [],
   "source": [
    "%qtconsole"
   ]
  },
  {
   "cell_type": "code",
   "execution_count": null,
   "metadata": {},
   "outputs": [],
   "source": [
    "%qtconsole"
   ]
  },
  {
   "cell_type": "code",
   "execution_count": null,
   "metadata": {},
   "outputs": [],
   "source": []
  }
 ],
 "metadata": {
  "kernelspec": {
   "display_name": "Python 3",
   "language": "python",
   "name": "python3"
  },
  "language_info": {
   "codemirror_mode": {
    "name": "ipython",
    "version": 3
   },
   "file_extension": ".py",
   "mimetype": "text/x-python",
   "name": "python",
   "nbconvert_exporter": "python",
   "pygments_lexer": "ipython3",
   "version": "3.7.5rc1"
  }
 },
 "nbformat": 4,
 "nbformat_minor": 4
}
